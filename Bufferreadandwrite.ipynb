{
 "cells": [
  {
   "cell_type": "code",
   "execution_count": 1,
   "id": "735e76b5-dcaf-4250-a410-7bda5cbc1dfe",
   "metadata": {},
   "outputs": [],
   "source": [
    "import io"
   ]
  },
  {
   "cell_type": "code",
   "execution_count": 7,
   "id": "e55baff0-9e8c-4a21-9d57-56e9a9375043",
   "metadata": {},
   "outputs": [],
   "source": [
    "with open(\"text1.txt\",\"wb\") as f:\n",
    "    file=io.BufferedWriter(f)\n",
    "    \n",
    "    file.write(b\"this is my first line\\n\")\n",
    "    file.write(b\"this is my second line\\n\")\n",
    "    file.write(b\"There have been many innovations in the healthcare industry since the outbreak of covid in 2019. The use of data in the healthcare industry has helped healthcare professionals get more accurate information about the medical conditions of patients. In this article, I will take you through the use of data science in the healthcare industry that you should know.\")\n",
    "\n",
    "    file.flush()"
   ]
  },
  {
   "cell_type": "code",
   "execution_count": 8,
   "id": "f5b6f533-c68e-4962-a2e1-d9d17e28714a",
   "metadata": {},
   "outputs": [
    {
     "name": "stdout",
     "output_type": "stream",
     "text": [
      "b'this is my first line\\nthis is my second line\\nThere have been many innovations in the healthcare industry since the outbreak of covid in 2019. The use of data in the healthcare industry has helped healthcare professionals get more accurate information about the medical conditions of patients. In this article, I will take you through the use of data science in the healthcare industry that you should know.'\n"
     ]
    }
   ],
   "source": [
    "with open(\"text1.txt\",\"rb\") as f:\n",
    "    file=io.BufferedReader(f)\n",
    "    print(file.read())"
   ]
  },
  {
   "cell_type": "code",
   "execution_count": null,
   "id": "12e953d6-0ad4-48d5-afbb-e746d78a44ff",
   "metadata": {},
   "outputs": [],
   "source": []
  }
 ],
 "metadata": {
  "kernelspec": {
   "display_name": "Python 3 (ipykernel)",
   "language": "python",
   "name": "python3"
  },
  "language_info": {
   "codemirror_mode": {
    "name": "ipython",
    "version": 3
   },
   "file_extension": ".py",
   "mimetype": "text/x-python",
   "name": "python",
   "nbconvert_exporter": "python",
   "pygments_lexer": "ipython3",
   "version": "3.10.8"
  }
 },
 "nbformat": 4,
 "nbformat_minor": 5
}
